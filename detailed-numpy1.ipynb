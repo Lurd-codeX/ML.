{
 "cells": [
  {
   "cell_type": "code",
   "execution_count": 1,
   "id": "5e51ece6-3b13-47c6-abcc-62c0ed9359e1",
   "metadata": {},
   "outputs": [],
   "source": [
    "import numpy as np\n",
    "# checking the dimensions of my array use ndim\n",
    "arr = np.array ([1,2,3,4])\n",
    " "
   ]
  },
  {
   "cell_type": "code",
   "execution_count": 2,
   "id": "b919516c-1abe-4622-b53f-3240caa7dd6e",
   "metadata": {},
   "outputs": [
    {
     "name": "stdout",
     "output_type": "stream",
     "text": [
      "[1 2 3 4]\n"
     ]
    }
   ],
   "source": [
    "print (arr)"
   ]
  },
  {
   "cell_type": "code",
   "execution_count": 3,
   "id": "d7bc5d3b-bb63-4271-b4e6-bfb6092d928b",
   "metadata": {},
   "outputs": [
    {
     "data": {
      "text/plain": [
       "1"
      ]
     },
     "execution_count": 3,
     "metadata": {},
     "output_type": "execute_result"
    }
   ],
   "source": [
    "arr.ndim"
   ]
  },
  {
   "cell_type": "code",
   "execution_count": 4,
   "id": "25d03d2f-c2ca-4c59-95fd-effaf77f5bec",
   "metadata": {},
   "outputs": [],
   "source": [
    "import numpy as np\n",
    "range = np.arange (1,10)"
   ]
  },
  {
   "cell_type": "code",
   "execution_count": 6,
   "id": "33e14494-fdc5-4430-b7a3-2e8f0bd3b1a3",
   "metadata": {},
   "outputs": [],
   "source": [
    "range = np.arange (1,10)  "
   ]
  },
  {
   "cell_type": "code",
   "execution_count": 7,
   "id": "9cb71b10-9794-4b6c-be0b-90aa5a18ad38",
   "metadata": {},
   "outputs": [
    {
     "data": {
      "text/plain": [
       "array([1, 2, 3, 4, 5, 6, 7, 8, 9])"
      ]
     },
     "execution_count": 7,
     "metadata": {},
     "output_type": "execute_result"
    }
   ],
   "source": [
    "range"
   ]
  },
  {
   "cell_type": "code",
   "execution_count": 8,
   "id": "79967128-9882-4541-9a1b-7f4139c5ae5f",
   "metadata": {},
   "outputs": [
    {
     "name": "stdout",
     "output_type": "stream",
     "text": [
      "[1 2 3 4 5 6 7 8 9]\n"
     ]
    }
   ],
   "source": [
    "print (range)"
   ]
  },
  {
   "cell_type": "code",
   "execution_count": 9,
   "id": "9901a226-815f-4cfc-ab91-cda69a8aadd9",
   "metadata": {},
   "outputs": [
    {
     "ename": "SyntaxError",
     "evalue": "invalid syntax (1971229035.py, line 1)",
     "output_type": "error",
     "traceback": [
      "  \u001b[36mCell\u001b[39m\u001b[36m \u001b[39m\u001b[32mIn[9]\u001b[39m\u001b[32m, line 1\u001b[39m\n\u001b[31m    \u001b[39m\u001b[31mrange = np.arange (1,10, 2) \"\"\"adding a thrd value gives a step\"\"\"\u001b[39m\n                                ^\n\u001b[31mSyntaxError\u001b[39m\u001b[31m:\u001b[39m invalid syntax\n"
     ]
    }
   ],
   "source": [
    " range = np.arange (1,10, 2) \"\"\"adding a thrd value gives a step\"\"\""
   ]
  },
  {
   "cell_type": "code",
   "execution_count": 10,
   "id": "19bf348f-19e5-4304-9860-440275f003c3",
   "metadata": {},
   "outputs": [],
   "source": [
    " range = np.arange (1,10, 2)"
   ]
  },
  {
   "cell_type": "code",
   "execution_count": 11,
   "id": "94257d42-fe58-4427-8a2e-7d0ada620449",
   "metadata": {},
   "outputs": [
    {
     "data": {
      "text/plain": [
       "array([1, 3, 5, 7, 9])"
      ]
     },
     "execution_count": 11,
     "metadata": {},
     "output_type": "execute_result"
    }
   ],
   "source": [
    "range"
   ]
  },
  {
   "cell_type": "code",
   "execution_count": 12,
   "id": "2a00d238-7b0b-4f76-a3c8-cafae8867cf8",
   "metadata": {},
   "outputs": [
    {
     "ename": "AttributeError",
     "evalue": "module 'numpy' has no attribute 'linespace'",
     "output_type": "error",
     "traceback": [
      "\u001b[31m---------------------------------------------------------------------------\u001b[39m",
      "\u001b[31mAttributeError\u001b[39m                            Traceback (most recent call last)",
      "\u001b[36mCell\u001b[39m\u001b[36m \u001b[39m\u001b[32mIn[12]\u001b[39m\u001b[32m, line 1\u001b[39m\n\u001b[32m----> \u001b[39m\u001b[32m1\u001b[39m \u001b[43mnp\u001b[49m\u001b[43m.\u001b[49m\u001b[43mlinespace\u001b[49m (\u001b[32m0\u001b[39m,\u001b[32m1\u001b[39m,\u001b[32m10\u001b[39m)\n",
      "\u001b[36mFile \u001b[39m\u001b[32m~\\AppData\\Local\\Programs\\Python\\Python313\\Lib\\site-packages\\numpy\\__init__.py:808\u001b[39m, in \u001b[36m__getattr__\u001b[39m\u001b[34m(attr)\u001b[39m\n\u001b[32m    805\u001b[39m     \u001b[38;5;28;01mimport\u001b[39;00m\u001b[38;5;250m \u001b[39m\u001b[34;01mnumpy\u001b[39;00m\u001b[34;01m.\u001b[39;00m\u001b[34;01mchar\u001b[39;00m\u001b[38;5;250m \u001b[39m\u001b[38;5;28;01mas\u001b[39;00m\u001b[38;5;250m \u001b[39m\u001b[34;01mchar\u001b[39;00m\n\u001b[32m    806\u001b[39m     \u001b[38;5;28;01mreturn\u001b[39;00m char.chararray\n\u001b[32m--> \u001b[39m\u001b[32m808\u001b[39m \u001b[38;5;28;01mraise\u001b[39;00m \u001b[38;5;167;01mAttributeError\u001b[39;00m(\u001b[33mf\u001b[39m\u001b[33m\"\u001b[39m\u001b[33mmodule \u001b[39m\u001b[38;5;132;01m{\u001b[39;00m\u001b[34m__name__\u001b[39m\u001b[38;5;132;01m!r}\u001b[39;00m\u001b[33m has no attribute \u001b[39m\u001b[38;5;132;01m{\u001b[39;00mattr\u001b[38;5;132;01m!r}\u001b[39;00m\u001b[33m\"\u001b[39m)\n",
      "\u001b[31mAttributeError\u001b[39m: module 'numpy' has no attribute 'linespace'"
     ]
    }
   ],
   "source": [
    "np.linespace (0,1,10)"
   ]
  },
  {
   "cell_type": "code",
   "execution_count": 13,
   "id": "578a0bc2-1c38-45bc-9e51-7ac4f9916095",
   "metadata": {},
   "outputs": [
    {
     "ename": "AttributeError",
     "evalue": "module 'numpy' has no attribute 'linespace'",
     "output_type": "error",
     "traceback": [
      "\u001b[31m---------------------------------------------------------------------------\u001b[39m",
      "\u001b[31mAttributeError\u001b[39m                            Traceback (most recent call last)",
      "\u001b[36mCell\u001b[39m\u001b[36m \u001b[39m\u001b[32mIn[13]\u001b[39m\u001b[32m, line 1\u001b[39m\n\u001b[32m----> \u001b[39m\u001b[32m1\u001b[39m arr = \u001b[43mnp\u001b[49m\u001b[43m.\u001b[49m\u001b[43mlinespace\u001b[49m (\u001b[32m0\u001b[39m,\u001b[32m10\u001b[39m,\u001b[32m1\u001b[39m)\n",
      "\u001b[36mFile \u001b[39m\u001b[32m~\\AppData\\Local\\Programs\\Python\\Python313\\Lib\\site-packages\\numpy\\__init__.py:808\u001b[39m, in \u001b[36m__getattr__\u001b[39m\u001b[34m(attr)\u001b[39m\n\u001b[32m    805\u001b[39m     \u001b[38;5;28;01mimport\u001b[39;00m\u001b[38;5;250m \u001b[39m\u001b[34;01mnumpy\u001b[39;00m\u001b[34;01m.\u001b[39;00m\u001b[34;01mchar\u001b[39;00m\u001b[38;5;250m \u001b[39m\u001b[38;5;28;01mas\u001b[39;00m\u001b[38;5;250m \u001b[39m\u001b[34;01mchar\u001b[39;00m\n\u001b[32m    806\u001b[39m     \u001b[38;5;28;01mreturn\u001b[39;00m char.chararray\n\u001b[32m--> \u001b[39m\u001b[32m808\u001b[39m \u001b[38;5;28;01mraise\u001b[39;00m \u001b[38;5;167;01mAttributeError\u001b[39;00m(\u001b[33mf\u001b[39m\u001b[33m\"\u001b[39m\u001b[33mmodule \u001b[39m\u001b[38;5;132;01m{\u001b[39;00m\u001b[34m__name__\u001b[39m\u001b[38;5;132;01m!r}\u001b[39;00m\u001b[33m has no attribute \u001b[39m\u001b[38;5;132;01m{\u001b[39;00mattr\u001b[38;5;132;01m!r}\u001b[39;00m\u001b[33m\"\u001b[39m)\n",
      "\u001b[31mAttributeError\u001b[39m: module 'numpy' has no attribute 'linespace'"
     ]
    }
   ],
   "source": [
    "arr = np.linespace (0,10,1)"
   ]
  },
  {
   "cell_type": "code",
   "execution_count": 15,
   "id": "e55827eb-dc2b-4313-95ed-1091b9b13f1a",
   "metadata": {},
   "outputs": [
    {
     "data": {
      "text/plain": [
       "array([0.])"
      ]
     },
     "execution_count": 15,
     "metadata": {},
     "output_type": "execute_result"
    }
   ],
   "source": [
    "arr = np.linspace (0,10,1)\n",
    "arr"
   ]
  },
  {
   "cell_type": "markdown",
   "id": "684c876b-2b3a-4096-848e-aa5807f222b2",
   "metadata": {},
   "source": [
    " arr = np.logspace (1,3, 3)"
   ]
  },
  {
   "cell_type": "code",
   "execution_count": 16,
   "id": "6b559c77-e319-4ad5-8fc5-29c733a5f35b",
   "metadata": {},
   "outputs": [],
   "source": [
    " # starts from 10^1 and ends at 10^3 and give 4 values\n",
    "arr = np.logspace(1,3,4)"
   ]
  },
  {
   "cell_type": "code",
   "execution_count": 17,
   "id": "23affd7f-9877-4a9c-9c3b-d43652582831",
   "metadata": {},
   "outputs": [
    {
     "data": {
      "text/plain": [
       "array([  10.        ,   46.41588834,  215.443469  , 1000.        ])"
      ]
     },
     "execution_count": 17,
     "metadata": {},
     "output_type": "execute_result"
    }
   ],
   "source": [
    "arr"
   ]
  },
  {
   "cell_type": "code",
   "execution_count": 20,
   "id": "a654f040-3cb6-4131-b760-ee4c458bdbc2",
   "metadata": {},
   "outputs": [
    {
     "data": {
      "text/plain": [
       "array([[0., 0., 0.],\n",
       "       [0., 0., 0.],\n",
       "       [0., 0., 0.],\n",
       "       [0., 0., 0.],\n",
       "       [0., 0., 0.]])"
      ]
     },
     "execution_count": 20,
     "metadata": {},
     "output_type": "execute_result"
    }
   ],
   "source": [
    "#np.zreos -> array full of zeros\n",
    "arr = np.zeros ([5,3])\n",
    "arr\n",
    "\n",
    "#same thing with np.ones ([])"
   ]
  },
  {
   "cell_type": "code",
   "execution_count": 21,
   "id": "95bd20a1-c471-4c39-984b-417e89b3668a",
   "metadata": {},
   "outputs": [
    {
     "data": {
      "text/plain": [
       "array([1, 1])"
      ]
     },
     "execution_count": 21,
     "metadata": {},
     "output_type": "execute_result"
    }
   ],
   "source": [
    "#np.full()->array full of any values\n",
    "arr=np.full (2,1)\n",
    "arr"
   ]
  },
  {
   "cell_type": "code",
   "execution_count": 22,
   "id": "a6d7d01e-d703-41d9-aa34-31ca8ab98368",
   "metadata": {},
   "outputs": [
    {
     "data": {
      "text/plain": [
       "array([[5, 5, 5, 5],\n",
       "       [5, 5, 5, 5]])"
      ]
     },
     "execution_count": 22,
     "metadata": {},
     "output_type": "execute_result"
    }
   ],
   "source": [
    "#using np.full for higher order dimensions\n",
    "arr= np.full ([2,4], 5)\n",
    "arr"
   ]
  },
  {
   "cell_type": "code",
   "execution_count": 23,
   "id": "1a234b79-dd3f-4953-923f-6a3593869d73",
   "metadata": {},
   "outputs": [
    {
     "data": {
      "text/plain": [
       "array([[0.58264053, 0.0415277 , 0.75496959, 0.99086451, 0.76174326,\n",
       "        0.47628489, 0.90740847, 0.02010398, 0.90236013, 0.50265673],\n",
       "       [0.81485439, 0.73941528, 0.08120129, 0.17179921, 0.94682759,\n",
       "        0.80885866, 0.86202801, 0.45622347, 0.43243119, 0.64709222]])"
      ]
     },
     "execution_count": 23,
     "metadata": {},
     "output_type": "execute_result"
    }
   ],
   "source": [
    "# np.random.rand -> evenly distributees random floats \n",
    "arr = np.random.rand (2,10)\n",
    "arr  #note for this do not enclose your dimensions in square brackets"
   ]
  },
  {
   "cell_type": "code",
   "execution_count": 7,
   "id": "2dcc3a65-abcf-4847-abdb-960ec1d8001d",
   "metadata": {},
   "outputs": [
    {
     "data": {
      "text/plain": [
       "2"
      ]
     },
     "execution_count": 7,
     "metadata": {},
     "output_type": "execute_result"
    }
   ],
   "source": [
    "# fills array with ranom integers\n",
    "arr = np.random.randint (2,4)\n",
    "arr"
   ]
  },
  {
   "cell_type": "code",
   "execution_count": 10,
   "id": "f26b09cf-0a55-4b14-8383-25c5c0e83f8d",
   "metadata": {},
   "outputs": [
    {
     "data": {
      "text/plain": [
       "array([2, 2, 2], dtype=int32)"
      ]
     },
     "execution_count": 10,
     "metadata": {},
     "output_type": "execute_result"
    }
   ],
   "source": [
    "arr = np.random.randint (2,3, size = (3))\n",
    "arr"
   ]
  },
  {
   "cell_type": "code",
   "execution_count": 6,
   "id": "2c657721-4444-49d9-8ff7-6714c7dac61e",
   "metadata": {},
   "outputs": [
    {
     "data": {
      "text/plain": [
       "array([[[[0.],\n",
       "         [0.],\n",
       "         [0.],\n",
       "         [0.]],\n",
       "\n",
       "        [[0.],\n",
       "         [0.],\n",
       "         [0.],\n",
       "         [0.]],\n",
       "\n",
       "        [[0.],\n",
       "         [0.],\n",
       "         [0.],\n",
       "         [0.]]],\n",
       "\n",
       "\n",
       "       [[[0.],\n",
       "         [0.],\n",
       "         [0.],\n",
       "         [0.]],\n",
       "\n",
       "        [[0.],\n",
       "         [0.],\n",
       "         [0.],\n",
       "         [0.]],\n",
       "\n",
       "        [[0.],\n",
       "         [0.],\n",
       "         [0.],\n",
       "         [0.]]]])"
      ]
     },
     "execution_count": 6,
     "metadata": {},
     "output_type": "execute_result"
    }
   ],
   "source": [
    "import numpy as np\n",
    "arr = np.zeros ([2,3,4,1])\n",
    "arr"
   ]
  },
  {
   "cell_type": "code",
   "execution_count": 10,
   "id": "7cd041b5-5e7e-4ac5-baa5-aa8a498363c9",
   "metadata": {},
   "outputs": [
    {
     "data": {
      "text/plain": [
       "array([[7, 7, 7, 7],\n",
       "       [7, 7, 7, 7]])"
      ]
     },
     "execution_count": 10,
     "metadata": {},
     "output_type": "execute_result"
    }
   ],
   "source": [
    "arr=np.full ([2,4],7)\n",
    "arr"
   ]
  },
  {
   "cell_type": "code",
   "execution_count": 15,
   "id": "2df923b0-5ade-4a7b-adc9-389757d33bb2",
   "metadata": {},
   "outputs": [
    {
     "data": {
      "text/plain": [
       "array([[[0.28434701, 0.65948338, 0.01999991, 0.82990652],\n",
       "        [0.53899458, 0.25676758, 0.12773507, 0.03659115],\n",
       "        [0.74700129, 0.15678571, 0.18671655, 0.40563332]],\n",
       "\n",
       "       [[0.65435094, 0.3149559 , 0.16546939, 0.79650531],\n",
       "        [0.36894847, 0.52454647, 0.32708993, 0.57708566],\n",
       "        [0.42515518, 0.1396023 , 0.00533556, 0.84961176]]])"
      ]
     },
     "execution_count": 15,
     "metadata": {},
     "output_type": "execute_result"
    }
   ],
   "source": [
    "arr = np.random.rand(2,3,4) # for rand not putting square brackets is a must\n",
    "arr"
   ]
  },
  {
   "cell_type": "code",
   "execution_count": 17,
   "id": "bf944576-8c79-406b-81c9-041ac715241f",
   "metadata": {},
   "outputs": [
    {
     "data": {
      "text/plain": [
       "array([[ 0.56491443, -2.4632487 ,  0.55555202],\n",
       "       [-1.0033551 , -0.91545007,  0.7488123 ]])"
      ]
     },
     "execution_count": 17,
     "metadata": {},
     "output_type": "execute_result"
    }
   ],
   "source": [
    "arr = np.random.randn (2,3)# this means that the mean would always\n",
    "#be 0 and the standard deviation is gping to be 1\n",
    "arr "
   ]
  },
  {
   "cell_type": "code",
   "execution_count": 20,
   "id": "555f20a6-4340-4b67-9d88-8bbd04b33b20",
   "metadata": {},
   "outputs": [
    {
     "data": {
      "text/plain": [
       "array([[34, 52, 56, 44],\n",
       "       [14, 34, 30, 62]], dtype=int32)"
      ]
     },
     "execution_count": 20,
     "metadata": {},
     "output_type": "execute_result"
    }
   ],
   "source": [
    "arr= np.random.randint (10,100,(2,4))\n",
    "arr # start stop, size"
   ]
  },
  {
   "cell_type": "code",
   "execution_count": 32,
   "id": "fad92bcc-5573-45c4-bb97-52a3c9feb2e9",
   "metadata": {},
   "outputs": [
    {
     "name": "stdout",
     "output_type": "stream",
     "text": [
      "[ True False  True  True]\n"
     ]
    },
    {
     "data": {
      "text/plain": [
       "numpy.ndarray"
      ]
     },
     "execution_count": 32,
     "metadata": {},
     "output_type": "execute_result"
    }
   ],
   "source": [
    "#numpy data types and type casting \n",
    "#arrays does notallows multiple data types to be stored in it\n",
    "#instead precedence is giving to data types.\n",
    "#string > floats >int\n",
    "arr =  np.array([33.1,False,3,5.0],)\n",
    "print (arr)\n",
    "type (arr)"
   ]
  },
  {
   "cell_type": "code",
   "execution_count": null,
   "id": "f3f843eb-0078-4c2a-b98a-6723616f87ab",
   "metadata": {},
   "outputs": [],
   "source": [
    "arr =  np.array([33.1,False,3,5.0], dtype=  bool)\n",
    "print (arr)\n",
    "type (arr) # use dtype to change the datatype of the \n",
    "#array\n",
    " "
   ]
  },
  {
   "cell_type": "code",
   "execution_count": 39,
   "id": "91566138-eb7e-4032-b752-5a2237065562",
   "metadata": {},
   "outputs": [
    {
     "data": {
      "text/plain": [
       "array([1., 0., 1., 1.])"
      ]
     },
     "execution_count": 39,
     "metadata": {},
     "output_type": "execute_result"
    }
   ],
   "source": [
    "#astype converts one data type from one to the other \n",
    "#keeps the original data type constant and creates\n",
    "#a new one \n",
    "new_arr = arr.astype(np.float64)\n",
    "new_arrconverts\n",
    "#astype(int or np.int64)  from one data type to int\n"
   ]
  },
  {
   "cell_type": "code",
   "execution_count": null,
   "id": "260f9983-3296-47d9-ad37-2abd8b98bb7b",
   "metadata": {},
   "outputs": [],
   "source": [
    "#casting errors\n",
    "#you cannot convert a string to another data type.\n",
    "#.ndim= the number of rows of the array\n",
    "#.shae the dimensions of the array\n",
    "#.size = the multiple of the array\n",
    "#.itemsize = the space in bytes of an individual object in the array\n",
    "\n"
   ]
  },
  {
   "cell_type": "code",
   "execution_count": 44,
   "id": "c77bbfc3-f22f-414f-b57f-e71e8b0e47d6",
   "metadata": {},
   "outputs": [
    {
     "data": {
      "text/plain": [
       "array([[2],\n",
       "       [3],\n",
       "       [5]])"
      ]
     },
     "execution_count": 44,
     "metadata": {},
     "output_type": "execute_result"
    }
   ],
   "source": [
    "#array reshaping\n",
    "arr = np.array ([2,3,5])\n",
    "reshape = arr.reshape (3,1)\n",
    "reshape"
   ]
  },
  {
   "cell_type": "code",
   "execution_count": 46,
   "id": "589dc4f2-30f2-4e38-a387-8e6e5147ec20",
   "metadata": {},
   "outputs": [
    {
     "data": {
      "text/plain": [
       "array([2, 3, 5])"
      ]
     },
     "execution_count": 46,
     "metadata": {},
     "output_type": "execute_result"
    }
   ],
   "source": [
    "#.ravel() to convert to 1D array\n",
    "ravel = arr.ravel()\n",
    "ravel"
   ]
  },
  {
   "cell_type": "code",
   "execution_count": 47,
   "id": "aceaa004-36c9-44bd-a625-9ba56f39251e",
   "metadata": {},
   "outputs": [
    {
     "ename": "AttributeError",
     "evalue": "'numpy.ndarray' object has no attribute 'sqrt'",
     "output_type": "error",
     "traceback": [
      "\u001b[31m---------------------------------------------------------------------------\u001b[39m",
      "\u001b[31mAttributeError\u001b[39m                            Traceback (most recent call last)",
      "\u001b[36mCell\u001b[39m\u001b[36m \u001b[39m\u001b[32mIn[47]\u001b[39m\u001b[32m, line 2\u001b[39m\n\u001b[32m      1\u001b[39m \u001b[38;5;66;03m#array functions\u001b[39;00m\n\u001b[32m----> \u001b[39m\u001b[32m2\u001b[39m \u001b[43marr\u001b[49m\u001b[43m.\u001b[49m\u001b[43msqrt\u001b[49m()\n",
      "\u001b[31mAttributeError\u001b[39m: 'numpy.ndarray' object has no attribute 'sqrt'"
     ]
    }
   ],
   "source": [
    "#array functions\n",
    "arr.sqrt()"
   ]
  },
  {
   "cell_type": "code",
   "execution_count": 52,
   "id": "d7504650-1737-42fc-be1a-c604dc3e02e0",
   "metadata": {},
   "outputs": [
    {
     "data": {
      "text/plain": [
       "array([0.        , 1.        , 0.70710678])"
      ]
     },
     "execution_count": 52,
     "metadata": {},
     "output_type": "execute_result"
    }
   ],
   "source": [
    "from numpy import pi\n",
    "np.sqrt(arr) # remember that this is a function that takes an argument\n",
    "np.exp(arr) #exponential\n",
    "np.sin([0,pi/2,pi/4])\n",
    "#"
   ]
  },
  {
   "cell_type": "code",
   "execution_count": 93,
   "id": "44fbd3d1-dc04-4b39-a551-59663b55589d",
   "metadata": {},
   "outputs": [
    {
     "data": {
      "text/plain": [
       "array([ 1,  2, 23])"
      ]
     },
     "execution_count": 93,
     "metadata": {},
     "output_type": "execute_result"
    }
   ],
   "source": [
    "#indexing and slicing \n",
    "arr[-1]  # negative indexing gives the last element of the list\n",
    "#negative indexing starts from the end of the list\n",
    "#slicing\n",
    "arr[0:3]#this is going to print the \n",
    "#elements fom zero but would exlude 3"
   ]
  },
  {
   "cell_type": "code",
   "execution_count": 94,
   "id": "0a991288-7e8f-4198-baa8-55663a5b6f07",
   "metadata": {},
   "outputs": [
    {
     "data": {
      "text/plain": [
       "np.int64(5)"
      ]
     },
     "execution_count": 94,
     "metadata": {},
     "output_type": "execute_result"
    }
   ],
   "source": [
    "#note for negative slicing \n",
    "# you cannot start from a higher index to \n",
    "#a lower index without using steps \n",
    "arr\n",
    "arr[-1,]"
   ]
  },
  {
   "cell_type": "code",
   "execution_count": 65,
   "id": "26bbe7e2-b8b7-4202-b85a-8b82e5a70485",
   "metadata": {},
   "outputs": [
    {
     "name": "stdout",
     "output_type": "stream",
     "text": [
      "[[1 2 3]\n",
      " [4 5 6]\n",
      " [7 8 9]]\n"
     ]
    }
   ],
   "source": [
    "#multidimensional slicing\n",
    "matrix = np.array([[1,2,3],[4,5,6],[7,8,9]])\n",
    "print (matrix)"
   ]
  },
  {
   "cell_type": "code",
   "execution_count": 64,
   "id": "762e64d9-42d1-4883-80c4-1bfd72defb5f",
   "metadata": {},
   "outputs": [
    {
     "name": "stdout",
     "output_type": "stream",
     "text": [
      "[[1 2 3]\n",
      " [4 5 6]]\n"
     ]
    }
   ],
   "source": [
    "#to print the first two rows and all columns\n",
    "print(matrix[0:2, :])"
   ]
  },
  {
   "cell_type": "code",
   "execution_count": 67,
   "id": "c5aa0ec7-6ee5-4e83-9462-1eb5727ed387",
   "metadata": {},
   "outputs": [
    {
     "name": "stdout",
     "output_type": "stream",
     "text": [
      "[10 40 50 60]\n"
     ]
    }
   ],
   "source": [
    "#index arrays (np.take()) these are built in funtions to perform slicing\n",
    "arrs= ([10,20,30,40,50,60])\n",
    "cut = [0,3,4,5]\n",
    "print(np.take(arrs,cut))\n"
   ]
  },
  {
   "cell_type": "code",
   "execution_count": 69,
   "id": "0c02f907-8f13-4b6b-878c-15cca0282be0",
   "metadata": {},
   "outputs": [
    {
     "name": "stdout",
     "output_type": "stream",
     "text": [
      "(array(10), array(20), array(30), array(40), array(50), array(60)) "
     ]
    }
   ],
   "source": [
    "#iterating using nditer(). remember that you\n",
    "#cannot iterate through an array using just loops\n",
    "for x in np.nditer(arrs):\n",
    "    print(x, end= \" \") "
   ]
  },
  {
   "cell_type": "code",
   "execution_count": 91,
   "id": "9a67b660-42fe-4a22-becf-7db78400dc44",
   "metadata": {},
   "outputs": [
    {
     "ename": "NameError",
     "evalue": "name 'np' is not defined",
     "output_type": "error",
     "traceback": [
      "\u001b[31m---------------------------------------------------------------------------\u001b[39m",
      "\u001b[31mNameError\u001b[39m                                 Traceback (most recent call last)",
      "\u001b[36mCell\u001b[39m\u001b[36m \u001b[39m\u001b[32mIn[91]\u001b[39m\u001b[32m, line 1\u001b[39m\n\u001b[32m----> \u001b[39m\u001b[32m1\u001b[39m \u001b[38;5;28;01mfor\u001b[39;00m \u001b[38;5;28mint\u001b[39m,x \u001b[38;5;129;01min\u001b[39;00m \u001b[43mnp\u001b[49m.ndenumerate(arrs):\n\u001b[32m      2\u001b[39m     \u001b[38;5;28mprint\u001b[39m(\u001b[38;5;28mint\u001b[39m,x)\n",
      "\u001b[31mNameError\u001b[39m: name 'np' is not defined"
     ]
    }
   ],
   "source": [
    "for int,x in np.ndenumerate(arrs):\n",
    "    print(int,x)"
   ]
  },
  {
   "cell_type": "code",
   "execution_count": 90,
   "id": "2b3216e9-25d3-4ac0-b2a9-bc1944c74cae",
   "metadata": {},
   "outputs": [
    {
     "ename": "NameError",
     "evalue": "name 'np' is not defined",
     "output_type": "error",
     "traceback": [
      "\u001b[31m---------------------------------------------------------------------------\u001b[39m",
      "\u001b[31mNameError\u001b[39m                                 Traceback (most recent call last)",
      "\u001b[36mCell\u001b[39m\u001b[36m \u001b[39m\u001b[32mIn[90]\u001b[39m\u001b[32m, line 4\u001b[39m\n\u001b[32m      1\u001b[39m \u001b[38;5;66;03m#views vs copies.\u001b[39;00m\n\u001b[32m      2\u001b[39m \u001b[38;5;66;03m# views changes the element of the original array while copies does not just as save and save as.\u001b[39;00m\n\u001b[32m      3\u001b[39m \u001b[38;5;66;03m#views\u001b[39;00m\n\u001b[32m----> \u001b[39m\u001b[32m4\u001b[39m arr = \u001b[43mnp\u001b[49m.array([\u001b[32m1\u001b[39m,\u001b[32m2\u001b[39m,\u001b[32m3\u001b[39m,\u001b[32m4\u001b[39m,\u001b[32m5\u001b[39m])\n\u001b[32m      5\u001b[39m views = arr[\u001b[32m0\u001b[39m:\u001b[32m3\u001b[39m]\n\u001b[32m      6\u001b[39m views[\u001b[32m2\u001b[39m]= \u001b[32m23\u001b[39m\n",
      "\u001b[31mNameError\u001b[39m: name 'np' is not defined"
     ]
    }
   ],
   "source": [
    "#views vs copies.\n",
    "# views changes the element of the original array while copies does not just as save and save as.\n",
    "#views\n",
    "arr = np.array([1,2,3,4,5])\n",
    "views = arr[0:3]\n",
    "views[2]= 23\n",
    "print(arr)"
   ]
  },
  {
   "cell_type": "code",
   "execution_count": 89,
   "id": "d5201692-a0cf-4917-9a98-a0c23ad87c26",
   "metadata": {},
   "outputs": [
    {
     "name": "stdout",
     "output_type": "stream",
     "text": [
      "[1 2 4 4 5]\n",
      "[ 1  2 23  4  5]\n"
     ]
    }
   ],
   "source": [
    "#copies\n",
    "copy = arr.copy()\n",
    "copy[2]=4\n",
    "print (copy)\n",
    "print (arr)"
   ]
  },
  {
   "cell_type": "code",
   "execution_count": 98,
   "id": "0b571d6d-5b24-4102-bdc1-de7cdc05b0ce",
   "metadata": {},
   "outputs": [
    {
     "name": "stdout",
     "output_type": "stream",
     "text": [
      "[[1 3]\n",
      " [2 4]]\n",
      "[[1 2]\n",
      " [3 4]]\n"
     ]
    }
   ],
   "source": [
    "#transpose\n",
    "#this is used to swap rows with colums\n",
    "\n",
    "arr = np.array([[1,2],[3,4]])\n",
    "transpose = arr.transpose()\n",
    "print(arr.transpose())\n",
    "print (arr)"
   ]
  },
  {
   "cell_type": "code",
   "execution_count": null,
   "id": "abed2b45-2338-403b-b7fc-72347f1435f1",
   "metadata": {},
   "outputs": [],
   "source": []
  }
 ],
 "metadata": {
  "kernelspec": {
   "display_name": "Python 3 (ipykernel)",
   "language": "python",
   "name": "python3"
  },
  "language_info": {
   "codemirror_mode": {
    "name": "ipython",
    "version": 3
   },
   "file_extension": ".py",
   "mimetype": "text/x-python",
   "name": "python",
   "nbconvert_exporter": "python",
   "pygments_lexer": "ipython3",
   "version": "3.13.7"
  }
 },
 "nbformat": 4,
 "nbformat_minor": 5
}
